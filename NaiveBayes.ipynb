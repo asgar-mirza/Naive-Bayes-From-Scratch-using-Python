{
 "cells": [
  {
   "cell_type": "code",
   "execution_count": 89,
   "metadata": {},
   "outputs": [],
   "source": [
    "import requests"
   ]
  },
  {
   "cell_type": "code",
   "execution_count": 90,
   "metadata": {},
   "outputs": [],
   "source": [
    "# Link from the github"
   ]
  },
  {
   "cell_type": "code",
   "execution_count": 91,
   "metadata": {},
   "outputs": [],
   "source": [
    "link_training=requests.get('https://raw.githubusercontent.com/asgar-mirza/Naive-Bayes-From-Scratch-using-Python/master/trainingimages')"
   ]
  },
  {
   "cell_type": "code",
   "execution_count": 92,
   "metadata": {},
   "outputs": [],
   "source": [
    "# Training part begins here"
   ]
  },
  {
   "cell_type": "code",
   "execution_count": 93,
   "metadata": {},
   "outputs": [],
   "source": [
    "list_training = []\n",
    "training_images=link_training.text\n"
   ]
  },
  {
   "cell_type": "code",
   "execution_count": 94,
   "metadata": {},
   "outputs": [],
   "source": [
    "# This for loop is converting spaces into 0  and  # and + are getting converted into 1"
   ]
  },
  {
   "cell_type": "code",
   "execution_count": 95,
   "metadata": {},
   "outputs": [],
   "source": [
    "for char in training_images:\n",
    "    if char==' ':\n",
    "        list_training.append(0)\n",
    "    elif char =='#'or char == '+':\n",
    "        list_training.append(1)\n",
    "    else:\n",
    "        continue\n",
    "    \n",
    "        "
   ]
  },
  {
   "cell_type": "code",
   "execution_count": 96,
   "metadata": {},
   "outputs": [],
   "source": [
    "#creating a big outer list to store all those lists which has the dimensions"
   ]
  },
  {
   "cell_type": "code",
   "execution_count": 97,
   "metadata": {},
   "outputs": [],
   "source": [
    "outer_list_training = []"
   ]
  },
  {
   "cell_type": "code",
   "execution_count": 98,
   "metadata": {},
   "outputs": [],
   "source": [
    "#Iterations for taking one by one lists"
   ]
  },
  {
   "cell_type": "code",
   "execution_count": 99,
   "metadata": {},
   "outputs": [],
   "source": [
    "lis = list()\n",
    "for index in range(0,len(list_training)):\n",
    "    if index == 3919999:\n",
    "        lis.append(list_training[index])\n",
    "        outer_list_training.append(lis)\n",
    "    elif ( index % 784 ==0 and index!=0):\n",
    "        outer_list_training.append(lis)\n",
    "        lis = list()\n",
    "        lis.append(list_training[index])\n",
    "    else:\n",
    "        lis.append(list_training[index])\n"
   ]
  },
  {
   "cell_type": "code",
   "execution_count": 100,
   "metadata": {},
   "outputs": [],
   "source": [
    "#Testing part begins here"
   ]
  },
  {
   "cell_type": "code",
   "execution_count": 101,
   "metadata": {},
   "outputs": [],
   "source": [
    "import requests"
   ]
  },
  {
   "cell_type": "code",
   "execution_count": 102,
   "metadata": {},
   "outputs": [],
   "source": [
    "link_testing=requests.get('https://raw.githubusercontent.com/asgar-mirza/Naive-Bayes-From-Scratch-using-Python/master/testimages')"
   ]
  },
  {
   "cell_type": "code",
   "execution_count": 103,
   "metadata": {},
   "outputs": [],
   "source": [
    "list_testing = []\n",
    "testing_images=link_testing.text\n"
   ]
  },
  {
   "cell_type": "code",
   "execution_count": 104,
   "metadata": {},
   "outputs": [],
   "source": [
    "# again this for loop is converting spaces into 0 and then # and + are getting converted into 1"
   ]
  },
  {
   "cell_type": "code",
   "execution_count": 105,
   "metadata": {},
   "outputs": [],
   "source": [
    "for char in testing_images:\n",
    "    if char==' ':\n",
    "        list_testing.append(0)\n",
    "    elif char =='#'or char == '+':\n",
    "        list_testing.append(1)\n",
    "    else:\n",
    "        continue"
   ]
  },
  {
   "cell_type": "code",
   "execution_count": 106,
   "metadata": {},
   "outputs": [],
   "source": [
    "# Now creating the outerlist to store the lists which are inside with the test data"
   ]
  },
  {
   "cell_type": "code",
   "execution_count": 107,
   "metadata": {},
   "outputs": [],
   "source": [
    "outer_list_testing = []"
   ]
  },
  {
   "cell_type": "code",
   "execution_count": 108,
   "metadata": {},
   "outputs": [],
   "source": [
    "lis_testing = list()\n",
    "for index in range(0,len(list_testing)):\n",
    "    if index == 783999:\n",
    "        lis_testing.append(list_testing[index])\n",
    "        outer_list_testing.append(lis_testing)\n",
    "    elif ( index % 784 ==0 and index!=0):\n",
    "        outer_list_testing.append(lis_testing)\n",
    "        lis_testing = list()\n",
    "        lis_testing.append(list_testing[index])\n",
    "    else:\n",
    "        lis_testing.append(list_testing[index])"
   ]
  },
  {
   "cell_type": "code",
   "execution_count": 109,
   "metadata": {},
   "outputs": [],
   "source": [
    "#training Labels"
   ]
  },
  {
   "cell_type": "code",
   "execution_count": 110,
   "metadata": {},
   "outputs": [],
   "source": [
    "link_labels=requests.get('https://raw.githubusercontent.com/asgar-mirza/Naive-Bayes-From-Scratch-using-Python/master/traininglabels')"
   ]
  },
  {
   "cell_type": "code",
   "execution_count": 111,
   "metadata": {},
   "outputs": [],
   "source": [
    "list_trlabels = []"
   ]
  },
  {
   "cell_type": "code",
   "execution_count": 112,
   "metadata": {},
   "outputs": [],
   "source": [
    "var = link_labels.text"
   ]
  },
  {
   "cell_type": "code",
   "execution_count": 113,
   "metadata": {},
   "outputs": [],
   "source": [
    "for i in var:\n",
    "    if i != '\\n':\n",
    "        list_trlabels.append(int(i))"
   ]
  },
  {
   "cell_type": "code",
   "execution_count": 114,
   "metadata": {},
   "outputs": [],
   "source": [
    "#Testing labels"
   ]
  },
  {
   "cell_type": "code",
   "execution_count": 115,
   "metadata": {},
   "outputs": [],
   "source": [
    "link_labels=requests.get('https://raw.githubusercontent.com/asgar-mirza/Naive-Bayes-From-Scratch-using-Python/master/testlabels')"
   ]
  },
  {
   "cell_type": "code",
   "execution_count": 116,
   "metadata": {},
   "outputs": [],
   "source": [
    "list_testlabels = []"
   ]
  },
  {
   "cell_type": "code",
   "execution_count": 117,
   "metadata": {},
   "outputs": [],
   "source": [
    "var = link_labels.text"
   ]
  },
  {
   "cell_type": "code",
   "execution_count": 118,
   "metadata": {},
   "outputs": [],
   "source": [
    "for i in var:\n",
    "    if i != '\\n':\n",
    "        list_testlabels.append(int(i))"
   ]
  },
  {
   "cell_type": "code",
   "execution_count": 119,
   "metadata": {},
   "outputs": [],
   "source": [
    "# Prior Calculation is done here. Basically we are finding for all which is from 0 to 9. its divided by 5000 because its total number"
   ]
  },
  {
   "cell_type": "code",
   "execution_count": 120,
   "metadata": {},
   "outputs": [
    {
     "name": "stdout",
     "output_type": "stream",
     "text": [
      "0.0958\n"
     ]
    }
   ],
   "source": [
    "pr0 = list_trlabels.count(0)/5000\n",
    "print(pr0)"
   ]
  },
  {
   "cell_type": "code",
   "execution_count": 121,
   "metadata": {},
   "outputs": [
    {
     "name": "stdout",
     "output_type": "stream",
     "text": [
      "0.1126\n"
     ]
    }
   ],
   "source": [
    "pr1 = list_trlabels.count(1)/5000\n",
    "print(pr1)"
   ]
  },
  {
   "cell_type": "code",
   "execution_count": 122,
   "metadata": {},
   "outputs": [
    {
     "name": "stdout",
     "output_type": "stream",
     "text": [
      "0.0976\n"
     ]
    }
   ],
   "source": [
    "pr2 = list_trlabels.count(2)/5000\n",
    "print(pr2)"
   ]
  },
  {
   "cell_type": "code",
   "execution_count": 123,
   "metadata": {},
   "outputs": [
    {
     "name": "stdout",
     "output_type": "stream",
     "text": [
      "0.0986\n"
     ]
    }
   ],
   "source": [
    "pr3 = list_trlabels.count(3)/5000\n",
    "print(pr3)"
   ]
  },
  {
   "cell_type": "code",
   "execution_count": 124,
   "metadata": {},
   "outputs": [
    {
     "name": "stdout",
     "output_type": "stream",
     "text": [
      "0.107\n"
     ]
    }
   ],
   "source": [
    "pr4 = list_trlabels.count(4)/5000\n",
    "print(pr4)"
   ]
  },
  {
   "cell_type": "code",
   "execution_count": 125,
   "metadata": {},
   "outputs": [
    {
     "name": "stdout",
     "output_type": "stream",
     "text": [
      "0.0868\n"
     ]
    }
   ],
   "source": [
    "pr5 = list_trlabels.count(5)/5000\n",
    "print(pr5)"
   ]
  },
  {
   "cell_type": "code",
   "execution_count": 126,
   "metadata": {},
   "outputs": [
    {
     "name": "stdout",
     "output_type": "stream",
     "text": [
      "0.1002\n"
     ]
    }
   ],
   "source": [
    "pr6 = list_trlabels.count(6)/5000\n",
    "print(pr6)"
   ]
  },
  {
   "cell_type": "code",
   "execution_count": 127,
   "metadata": {},
   "outputs": [
    {
     "name": "stdout",
     "output_type": "stream",
     "text": [
      "0.11\n"
     ]
    }
   ],
   "source": [
    "pr7 = list_trlabels.count(7)/5000\n",
    "print(pr7)"
   ]
  },
  {
   "cell_type": "code",
   "execution_count": 128,
   "metadata": {},
   "outputs": [
    {
     "name": "stdout",
     "output_type": "stream",
     "text": [
      "0.0924\n"
     ]
    }
   ],
   "source": [
    "pr8 = list_trlabels.count(8)/5000\n",
    "print(pr8)"
   ]
  },
  {
   "cell_type": "code",
   "execution_count": 129,
   "metadata": {},
   "outputs": [
    {
     "name": "stdout",
     "output_type": "stream",
     "text": [
      "0.099\n"
     ]
    }
   ],
   "source": [
    "pr9 = list_trlabels.count(9)/5000\n",
    "print(pr9)"
   ]
  },
  {
   "cell_type": "code",
   "execution_count": 130,
   "metadata": {},
   "outputs": [],
   "source": [
    "#Likelihood calculation. Again for this I am using formula and calculating for all."
   ]
  },
  {
   "cell_type": "code",
   "execution_count": 131,
   "metadata": {},
   "outputs": [],
   "source": [
    "allzero_images = list()\n",
    "for i in range(0,len(list_trlabels)):\n",
    "    if list_trlabels[i]==0:\n",
    "        allzero_images.append(outer_list_training[i])  "
   ]
  },
  {
   "cell_type": "code",
   "execution_count": 132,
   "metadata": {},
   "outputs": [
    {
     "data": {
      "text/plain": [
       "479"
      ]
     },
     "execution_count": 132,
     "metadata": {},
     "output_type": "execute_result"
    }
   ],
   "source": [
    "len(allzero_images)"
   ]
  },
  {
   "cell_type": "code",
   "execution_count": 133,
   "metadata": {},
   "outputs": [],
   "source": [
    "allone_images=list()\n",
    "for i in range(0,len(list_trlabels)):\n",
    "    if list_trlabels[i]==1:\n",
    "        allone_images.append(outer_list_training[i])"
   ]
  },
  {
   "cell_type": "code",
   "execution_count": 134,
   "metadata": {},
   "outputs": [
    {
     "data": {
      "text/plain": [
       "563"
      ]
     },
     "execution_count": 134,
     "metadata": {},
     "output_type": "execute_result"
    }
   ],
   "source": [
    "len(allone_images)"
   ]
  },
  {
   "cell_type": "code",
   "execution_count": 135,
   "metadata": {},
   "outputs": [],
   "source": [
    "all2_images=list()\n",
    "for i in range(0,len(list_trlabels)):\n",
    "    if list_trlabels[i]==2:\n",
    "        all2_images.append(outer_list_training[i])"
   ]
  },
  {
   "cell_type": "code",
   "execution_count": 136,
   "metadata": {},
   "outputs": [
    {
     "data": {
      "text/plain": [
       "488"
      ]
     },
     "execution_count": 136,
     "metadata": {},
     "output_type": "execute_result"
    }
   ],
   "source": [
    "len(all2_images)"
   ]
  },
  {
   "cell_type": "code",
   "execution_count": 137,
   "metadata": {},
   "outputs": [],
   "source": [
    "all3_images=list()\n",
    "for i in range(0,len(list_trlabels)):\n",
    "    if list_trlabels[i]==3:\n",
    "        all3_images.append(outer_list_training[i])"
   ]
  },
  {
   "cell_type": "code",
   "execution_count": 138,
   "metadata": {},
   "outputs": [
    {
     "data": {
      "text/plain": [
       "493"
      ]
     },
     "execution_count": 138,
     "metadata": {},
     "output_type": "execute_result"
    }
   ],
   "source": [
    "len(all3_images)"
   ]
  },
  {
   "cell_type": "code",
   "execution_count": 139,
   "metadata": {},
   "outputs": [],
   "source": [
    "all4_images=list()\n",
    "for i in range(0,len(list_trlabels)):\n",
    "    if list_trlabels[i]==4:\n",
    "        all4_images.append(outer_list_training[i])"
   ]
  },
  {
   "cell_type": "code",
   "execution_count": 140,
   "metadata": {},
   "outputs": [
    {
     "data": {
      "text/plain": [
       "535"
      ]
     },
     "execution_count": 140,
     "metadata": {},
     "output_type": "execute_result"
    }
   ],
   "source": [
    "len(all4_images)"
   ]
  },
  {
   "cell_type": "code",
   "execution_count": 141,
   "metadata": {},
   "outputs": [],
   "source": [
    "all5_images=list()\n",
    "for i in range(0,len(list_trlabels)):\n",
    "    if list_trlabels[i]==5:\n",
    "        all5_images.append(outer_list_training[i])"
   ]
  },
  {
   "cell_type": "code",
   "execution_count": 142,
   "metadata": {},
   "outputs": [
    {
     "data": {
      "text/plain": [
       "434"
      ]
     },
     "execution_count": 142,
     "metadata": {},
     "output_type": "execute_result"
    }
   ],
   "source": [
    "len(all5_images)"
   ]
  },
  {
   "cell_type": "code",
   "execution_count": 143,
   "metadata": {},
   "outputs": [],
   "source": [
    "all6_images=list()\n",
    "for i in range(0,len(list_trlabels)):\n",
    "    if list_trlabels[i]==6:\n",
    "        all6_images.append(outer_list_training[i])"
   ]
  },
  {
   "cell_type": "code",
   "execution_count": 144,
   "metadata": {},
   "outputs": [
    {
     "data": {
      "text/plain": [
       "501"
      ]
     },
     "execution_count": 144,
     "metadata": {},
     "output_type": "execute_result"
    }
   ],
   "source": [
    "len(all6_images)"
   ]
  },
  {
   "cell_type": "code",
   "execution_count": 145,
   "metadata": {},
   "outputs": [],
   "source": [
    "all7_images=list()\n",
    "for i in range(0,len(list_trlabels)):\n",
    "    if list_trlabels[i]==7:\n",
    "        all7_images.append(outer_list_training[i])"
   ]
  },
  {
   "cell_type": "code",
   "execution_count": 146,
   "metadata": {},
   "outputs": [
    {
     "data": {
      "text/plain": [
       "550"
      ]
     },
     "execution_count": 146,
     "metadata": {},
     "output_type": "execute_result"
    }
   ],
   "source": [
    "len(all7_images)"
   ]
  },
  {
   "cell_type": "code",
   "execution_count": 147,
   "metadata": {},
   "outputs": [],
   "source": [
    "all8_images=list()\n",
    "for i in range(0,len(list_trlabels)):\n",
    "    if list_trlabels[i]==8:\n",
    "        all8_images.append(outer_list_training[i])"
   ]
  },
  {
   "cell_type": "code",
   "execution_count": 148,
   "metadata": {},
   "outputs": [
    {
     "data": {
      "text/plain": [
       "462"
      ]
     },
     "execution_count": 148,
     "metadata": {},
     "output_type": "execute_result"
    }
   ],
   "source": [
    "len(all8_images)"
   ]
  },
  {
   "cell_type": "code",
   "execution_count": 149,
   "metadata": {},
   "outputs": [],
   "source": [
    "all9_images=list()\n",
    "for i in range(0,len(list_trlabels)):\n",
    "    if list_trlabels[i]==9:\n",
    "        all9_images.append(outer_list_training[i])"
   ]
  },
  {
   "cell_type": "code",
   "execution_count": 150,
   "metadata": {},
   "outputs": [
    {
     "data": {
      "text/plain": [
       "495"
      ]
     },
     "execution_count": 150,
     "metadata": {},
     "output_type": "execute_result"
    }
   ],
   "source": [
    "len(all9_images)"
   ]
  },
  {
   "cell_type": "code",
   "execution_count": 151,
   "metadata": {},
   "outputs": [],
   "source": [
    "k=0.2"
   ]
  },
  {
   "cell_type": "code",
   "execution_count": 152,
   "metadata": {},
   "outputs": [],
   "source": [
    "zerosforzero = []\n",
    "onesforzero = []\n",
    "for pixel in range(0,784):\n",
    "    count_0 = 0\n",
    "    count_1 = 0\n",
    "    for each_image in allzero_images:\n",
    "        if each_image[pixel] == 0:\n",
    "            count_0 = count_0 + 1\n",
    "        elif each_image[pixel]==1:\n",
    "            count_1 = count_1 + 1\n",
    "    prob_0=(k+count_0)/(5*k+len(allzero_images))\n",
    "    prob_1=(k+count_1)/(5*k+len(allzero_images))\n",
    "    zerosforzero.append(prob_0)\n",
    "    onesforzero.append(prob_1)\n",
    "\n",
    "    \n",
    "        "
   ]
  },
  {
   "cell_type": "code",
   "execution_count": 153,
   "metadata": {},
   "outputs": [],
   "source": [
    "zerosforone = []\n",
    "onesforone = []\n",
    "for pixel in range(0,784):\n",
    "    count_0 = 0\n",
    "    count_1 = 0\n",
    "    for each_image in allone_images:\n",
    "        if each_image[pixel] == 0:\n",
    "            count_0 = count_0 + 1\n",
    "        elif each_image[pixel]==1:\n",
    "            count_1 = count_1 + 1\n",
    "    prob_0=(k+count_0)/(5*k+len(allone_images))\n",
    "    prob_1=(k+count_1)/(5*k+len(allone_images))\n",
    "    zerosforone.append(prob_0)\n",
    "    onesforone.append(prob_1)\n"
   ]
  },
  {
   "cell_type": "code",
   "execution_count": 154,
   "metadata": {},
   "outputs": [],
   "source": [
    "zerosfortwo = []\n",
    "onesfortwo = []\n",
    "for pixel in range(0,784):\n",
    "    count_0 = 0\n",
    "    count_1 = 0\n",
    "    for each_image in all2_images:\n",
    "        if each_image[pixel] == 0:\n",
    "            count_0 = count_0 + 1\n",
    "        elif each_image[pixel]==1:\n",
    "            count_1 = count_1 + 1\n",
    "    prob_0=(k+count_0)/(5*k+len(all2_images))\n",
    "    prob_1=(k+count_1)/(5*k+len(all2_images))\n",
    "    zerosfortwo.append(prob_0)\n",
    "    onesfortwo.append(prob_1)"
   ]
  },
  {
   "cell_type": "code",
   "execution_count": 155,
   "metadata": {},
   "outputs": [],
   "source": [
    "zerosforthree = []\n",
    "onesforthree = []\n",
    "for pixel in range(0,784):\n",
    "    count_0 = 0\n",
    "    count_1 = 0\n",
    "    for each_image in all3_images:\n",
    "        if each_image[pixel] == 0:\n",
    "            count_0 = count_0 + 1\n",
    "        elif each_image[pixel]==1:\n",
    "            count_1 = count_1 + 1\n",
    "    prob_0=(k+count_0)/(5*k+len(all3_images))\n",
    "    prob_1=(k+count_1)/(5*k+len(all3_images))\n",
    "    zerosforthree.append(prob_0)\n",
    "    onesforthree.append(prob_1)"
   ]
  },
  {
   "cell_type": "code",
   "execution_count": 156,
   "metadata": {},
   "outputs": [],
   "source": [
    "zerosforfour = []\n",
    "onesforfour = []\n",
    "for pixel in range(0,784):\n",
    "    count_0 = 0\n",
    "    count_1 = 0\n",
    "    for each_image in all4_images:\n",
    "        if each_image[pixel] == 0:\n",
    "            count_0 = count_0 + 1\n",
    "        elif each_image[pixel]==1:\n",
    "            count_1 = count_1 + 1\n",
    "    prob_0=(k+count_0)/(5*k+len(all4_images))\n",
    "    prob_1=(k+count_1)/(5*k+len(all4_images))\n",
    "    zerosforfour.append(prob_0)\n",
    "    onesforfour.append(prob_1)"
   ]
  },
  {
   "cell_type": "code",
   "execution_count": 157,
   "metadata": {},
   "outputs": [],
   "source": [
    "zerosforfive = []\n",
    "onesforfive = []\n",
    "for pixel in range(0,784):\n",
    "    count_0 = 0\n",
    "    count_1 = 0\n",
    "    for each_image in all5_images:\n",
    "        if each_image[pixel] == 0:\n",
    "            count_0 = count_0 + 1\n",
    "        elif each_image[pixel]==1:\n",
    "            count_1 = count_1 + 1\n",
    "    prob_0=(k+count_0)/(5*k+len(all5_images))\n",
    "    prob_1=(k+count_1)/(5*k+len(all5_images))\n",
    "    zerosforfive.append(prob_0)\n",
    "    onesforfive.append(prob_1)"
   ]
  },
  {
   "cell_type": "code",
   "execution_count": 158,
   "metadata": {},
   "outputs": [],
   "source": [
    "zerosforsix = []\n",
    "onesforsix = []\n",
    "for pixel in range(0,784):\n",
    "    count_0 = 0\n",
    "    count_1 = 0\n",
    "    for each_image in all6_images:\n",
    "        if each_image[pixel] == 0:\n",
    "            count_0 = count_0 + 1\n",
    "        elif each_image[pixel]==1:\n",
    "            count_1 = count_1 + 1\n",
    "    prob_0=(k+count_0)/(5*k+len(all6_images))\n",
    "    prob_1=(k+count_1)/(5*k+len(all6_images))\n",
    "    zerosforsix.append(prob_0)\n",
    "    onesforsix.append(prob_1)"
   ]
  },
  {
   "cell_type": "code",
   "execution_count": 159,
   "metadata": {},
   "outputs": [],
   "source": [
    "zerosforseven = []\n",
    "onesforseven = []\n",
    "for pixel in range(0,784):\n",
    "    count_0 = 0\n",
    "    count_1 = 0\n",
    "    for each_image in all7_images:\n",
    "        if each_image[pixel] == 0:\n",
    "            count_0 = count_0 + 1\n",
    "        elif each_image[pixel]==1:\n",
    "            count_1 = count_1 + 1\n",
    "    prob_0=(k+count_0)/(5*k+len(all7_images))\n",
    "    prob_1=(k+count_1)/(5*k+len(all7_images))\n",
    "    zerosforseven.append(prob_0)\n",
    "    onesforseven.append(prob_1)"
   ]
  },
  {
   "cell_type": "code",
   "execution_count": 160,
   "metadata": {},
   "outputs": [],
   "source": [
    "zerosforeight = []\n",
    "onesforeight = []\n",
    "for pixel in range(0,784):\n",
    "    count_0 = 0\n",
    "    count_1 = 0\n",
    "    for each_image in all8_images:\n",
    "        if each_image[pixel] == 0:\n",
    "            count_0 = count_0 + 1\n",
    "        elif each_image[pixel]==1:\n",
    "            count_1 = count_1 + 1\n",
    "    prob_0=(k+count_0)/(5*k+len(all8_images))\n",
    "    prob_1=(k+count_1)/(5*k+len(all8_images))\n",
    "    zerosforeight.append(prob_0)\n",
    "    onesforeight.append(prob_1)"
   ]
  },
  {
   "cell_type": "code",
   "execution_count": 161,
   "metadata": {},
   "outputs": [],
   "source": [
    "zerosfornine = []\n",
    "onesfornine = []\n",
    "for pixel in range(0,784):\n",
    "    count_0 = 0\n",
    "    count_1 = 0\n",
    "    for each_image in all9_images:\n",
    "        if each_image[pixel] == 0:\n",
    "            count_0 = count_0 + 1\n",
    "        elif each_image[pixel]==1:\n",
    "            count_1 = count_1 + 1\n",
    "    prob_0=(k+count_0)/(5*k+len(all9_images))\n",
    "    prob_1=(k+count_1)/(5*k+len(all9_images))\n",
    "    zerosfornine.append(prob_0)\n",
    "    onesfornine.append(prob_1)"
   ]
  },
  {
   "cell_type": "code",
   "execution_count": 162,
   "metadata": {},
   "outputs": [],
   "source": [
    "#postirior = likeihood * prior"
   ]
  },
  {
   "cell_type": "code",
   "execution_count": 163,
   "metadata": {},
   "outputs": [],
   "source": [
    "# Calculating the POSTIRIOIR"
   ]
  },
  {
   "cell_type": "code",
   "execution_count": 164,
   "metadata": {},
   "outputs": [],
   "source": [
    "from math import log\n",
    "\n",
    "predicted_label=list()\n",
    "\n",
    "\n",
    "for each_test_image in outer_list_testing:\n",
    "    finalprobfordigit0= log(globals()['pr0'])\n",
    "    finalprobfordigit1= log(globals()['pr1'])\n",
    "    finalprobfordigit2= log(globals()['pr2'])\n",
    "    finalprobfordigit3= log(globals()['pr3'])\n",
    "    finalprobfordigit4= log(globals()['pr4'])\n",
    "    finalprobfordigit5= log(globals()['pr5'])\n",
    "    finalprobfordigit6= log(globals()['pr6'])\n",
    "    finalprobfordigit7= log(globals()['pr7'])\n",
    "    finalprobfordigit8= log(globals()['pr8'])\n",
    "    finalprobfordigit9= log(globals()['pr9'])\n",
    "\n",
    "    \n",
    "    prob_image=[]\n",
    "    for index in range(0,len(each_test_image)):\n",
    "        takeprob = 0\n",
    "        if each_test_image[index] == 0:\n",
    "            takeprob=zerosforzero[index]\n",
    "        elif each_test_image[index] == 1:\n",
    "            takeprob = onesforzero[index]\n",
    "        finalprobfordigit0+=log(takeprob)\n",
    "    prob_image.append(finalprobfordigit0)\n",
    "    #print(\"digit0: \", finalprobfordigit0)\n",
    "\n",
    "    for index in range(0,len(each_test_image)):\n",
    "        takeprob = 0\n",
    "        if each_test_image[index] == 0:\n",
    "            takeprob=zerosforone[index]\n",
    "        elif each_test_image[index] == 1:\n",
    "            takeprob = onesforone[index]\n",
    "        finalprobfordigit1+=log(takeprob)\n",
    "    prob_image.append(finalprobfordigit1)\n",
    "    #print(\"digit1: \", finalprobfordigit1)\n",
    "\n",
    "\n",
    "    for index in range(0,len(each_test_image)):\n",
    "        takeprob = 0\n",
    "        if each_test_image[index] == 0:\n",
    "            takeprob=zerosfortwo[index]\n",
    "        elif each_test_image[index] == 1:\n",
    "            takeprob = onesfortwo[index]\n",
    "        finalprobfordigit2+=log(takeprob)\n",
    "    prob_image.append(finalprobfordigit2)\n",
    "    #print(\"digit2: \", finalprobfordigit2)\n",
    "\n",
    "\n",
    "    for index in range(0,len(each_test_image)):\n",
    "        takeprob = 0\n",
    "        if each_test_image[index] == 0:\n",
    "            takeprob=zerosforthree[index]\n",
    "        elif each_test_image[index] == 1:\n",
    "            takeprob = onesforthree[index]\n",
    "        finalprobfordigit3+=log(takeprob)\n",
    "    prob_image.append(finalprobfordigit3)\n",
    "    #print(\"digit3: \", finalprobfordigit3)\n",
    "\n",
    "\n",
    "    for index in range(0,len(each_test_image)):\n",
    "        takeprob = 0\n",
    "        if each_test_image[index] == 0:\n",
    "            takeprob=zerosforfour[index]\n",
    "        elif each_test_image[index] == 1:\n",
    "            takeprob = onesforfour[index]\n",
    "        finalprobfordigit4+=log(takeprob)\n",
    "    prob_image.append(finalprobfordigit4)\n",
    "    #print(\"digit4: \", finalprobfordigit4)\n",
    "\n",
    "\n",
    "    for index in range(0,len(each_test_image)):\n",
    "        takeprob = 0\n",
    "        if each_test_image[index] == 0:\n",
    "            takeprob=zerosforfive[index]\n",
    "        elif each_test_image[index] == 1:\n",
    "            takeprob = onesforfive[index]\n",
    "        finalprobfordigit5+=log(takeprob)\n",
    "    prob_image.append(finalprobfordigit5)\n",
    "    #print(\"digit5: \", finalprobfordigit5)\n",
    "\n",
    "    for index in range(0,len(each_test_image)):\n",
    "        takeprob = 0\n",
    "        if each_test_image[index] == 0:\n",
    "            takeprob=zerosforsix[index]\n",
    "        elif each_test_image[index] == 1:\n",
    "            takeprob = onesforsix[index]\n",
    "        finalprobfordigit6+=log(takeprob)\n",
    "    prob_image.append(finalprobfordigit6)\n",
    "    #print(\"digit6: \", finalprobfordigit6)\n",
    "\n",
    "\n",
    "    for index in range(0,len(each_test_image)):\n",
    "        takeprob = 0\n",
    "        if each_test_image[index] == 0:\n",
    "            takeprob=zerosforseven[index]\n",
    "        elif each_test_image[index] == 1:\n",
    "            takeprob = onesforseven[index]\n",
    "        finalprobfordigit7+=log(takeprob)\n",
    "    prob_image.append(finalprobfordigit7)\n",
    "    #print(\"digit7: \", finalprobfordigit7)\n",
    "\n",
    "\n",
    "    for index in range(0,len(each_test_image)):\n",
    "        takeprob = 0\n",
    "        if each_test_image[index] == 0:\n",
    "            takeprob=zerosforeight[index]\n",
    "        elif each_test_image[index] == 1:\n",
    "            takeprob = onesforeight[index]\n",
    "        finalprobfordigit8+=log(takeprob)\n",
    "    prob_image.append(finalprobfordigit8)\n",
    "    #print(\"digit8: \", finalprobfordigit8)\n",
    "\n",
    "    for index in range(0,len(each_test_image)):\n",
    "        takeprob = 0\n",
    "        if each_test_image[index] == 0:\n",
    "            takeprob=zerosfornine[index]\n",
    "        elif each_test_image[index] == 1:\n",
    "            takeprob = onesfornine[index]\n",
    "        finalprobfordigit9+=log(takeprob)\n",
    "    prob_image.append(finalprobfordigit9)\n",
    "    #print(\"digit9: \", finalprobfordigit9)\n",
    "    \n",
    "    \n",
    "    x = prob_image.index(max(prob_image))\n",
    "    predicted_label.append(x)\n",
    "    \n",
    "    \n",
    "    \n",
    "\n",
    "\n",
    "        \n",
    "        "
   ]
  },
  {
   "cell_type": "code",
   "execution_count": 165,
   "metadata": {},
   "outputs": [],
   "source": [
    "#Accuracy for the total predictions"
   ]
  },
  {
   "cell_type": "code",
   "execution_count": 166,
   "metadata": {},
   "outputs": [],
   "source": [
    "total_correct_predictions=len([i for i, j in zip(list_testlabels, predicted_label) if i == j])"
   ]
  },
  {
   "cell_type": "code",
   "execution_count": 167,
   "metadata": {},
   "outputs": [
    {
     "name": "stdout",
     "output_type": "stream",
     "text": [
      "Accuracy:  0.773\n"
     ]
    }
   ],
   "source": [
    "print(\"Accuracy: \",total_correct_predictions/1000)"
   ]
  },
  {
   "cell_type": "code",
   "execution_count": 168,
   "metadata": {},
   "outputs": [],
   "source": [
    "# Importing Sklearn to perform confusion matrix."
   ]
  },
  {
   "cell_type": "code",
   "execution_count": 169,
   "metadata": {},
   "outputs": [],
   "source": [
    "# A confusion matrix is basically a table used to describe the performance"
   ]
  },
  {
   "cell_type": "code",
   "execution_count": 170,
   "metadata": {},
   "outputs": [],
   "source": [
    "from sklearn.metrics import confusion_matrix"
   ]
  },
  {
   "cell_type": "code",
   "execution_count": 171,
   "metadata": {},
   "outputs": [
    {
     "data": {
      "text/plain": [
       "array([[ 76,   0,   1,   0,   1,   5,   3,   0,   4,   0],\n",
       "       [  0, 104,   1,   0,   0,   2,   1,   0,   0,   0],\n",
       "       [  1,   3,  80,   4,   2,   0,   7,   1,   5,   0],\n",
       "       [  0,   1,   0,  80,   0,   3,   2,   7,   1,   6],\n",
       "       [  0,   0,   1,   0,  81,   1,   3,   1,   2,  18],\n",
       "       [  2,   1,   1,  12,   3,  63,   1,   1,   2,   6],\n",
       "       [  1,   4,   4,   0,   4,   6,  70,   0,   2,   0],\n",
       "       [  0,   6,   3,   0,   3,   0,   0,  77,   3,  14],\n",
       "       [  1,   1,   3,  14,   3,   8,   0,   1,  62,  10],\n",
       "       [  1,   1,   0,   3,  10,   2,   0,   2,   1,  80]], dtype=int64)"
      ]
     },
     "execution_count": 171,
     "metadata": {},
     "output_type": "execute_result"
    }
   ],
   "source": [
    "confusion_matrix(list_testlabels,predicted_label)"
   ]
  },
  {
   "cell_type": "code",
   "execution_count": null,
   "metadata": {},
   "outputs": [],
   "source": []
  }
 ],
 "metadata": {
  "kernelspec": {
   "display_name": "Python 3",
   "language": "python",
   "name": "python3"
  },
  "language_info": {
   "codemirror_mode": {
    "name": "ipython",
    "version": 3
   },
   "file_extension": ".py",
   "mimetype": "text/x-python",
   "name": "python",
   "nbconvert_exporter": "python",
   "pygments_lexer": "ipython3",
   "version": "3.7.4"
  }
 },
 "nbformat": 4,
 "nbformat_minor": 2
}
